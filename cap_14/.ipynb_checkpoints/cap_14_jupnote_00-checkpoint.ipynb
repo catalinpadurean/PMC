{
 "cells": [
  {
   "cell_type": "code",
   "execution_count": 3,
   "metadata": {},
   "outputs": [
    {
     "name": "stdout",
     "output_type": "stream",
     "text": [
      "Press Enter for new line\n",
      "Press Ctrl+Enter for executing cell\n",
      "Press Alt+Enter to create a new cell\n"
     ]
    }
   ],
   "source": [
    "print(\"Press Enter for new line\")\n",
    "print(\"Press Ctrl+Enter for executing cell\")\n",
    "print(\"Press Alt+Enter to create a new cell\")"
   ]
  },
  {
   "cell_type": "code",
   "execution_count": 5,
   "metadata": {},
   "outputs": [
    {
     "name": "stdout",
     "output_type": "stream",
     "text": [
      "For deleting a cell hold ESC and pres two times d -- Esc+dd\n"
     ]
    }
   ],
   "source": [
    "print(\"For deleting a cell hold ESC and pres two times d -- Esc+dd\")"
   ]
  },
  {
   "cell_type": "code",
   "execution_count": 6,
   "metadata": {},
   "outputs": [
    {
     "name": "stdout",
     "output_type": "stream",
     "text": [
      "Make sure you have tornado version 5.1.1 in order for jupyter notebook to work properly\n"
     ]
    }
   ],
   "source": [
    "print(\"Make sure you have tornado version 5.1.1 in order for jupyter notebook to work properly\")"
   ]
  }
 ],
 "metadata": {
  "kernelspec": {
   "display_name": "Python 3",
   "language": "python",
   "name": "python3"
  },
  "language_info": {
   "codemirror_mode": {
    "name": "ipython",
    "version": 3
   },
   "file_extension": ".py",
   "mimetype": "text/x-python",
   "name": "python",
   "nbconvert_exporter": "python",
   "pygments_lexer": "ipython3",
   "version": "3.7.2"
  }
 },
 "nbformat": 4,
 "nbformat_minor": 2
}
